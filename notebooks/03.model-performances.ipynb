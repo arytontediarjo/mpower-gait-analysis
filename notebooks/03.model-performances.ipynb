{
 "cells": [
  {
   "cell_type": "code",
   "execution_count": 1,
   "metadata": {},
   "outputs": [
    {
     "name": "stderr",
     "output_type": "stream",
     "text": [
      "Using TensorFlow backend.\n"
     ]
    }
   ],
   "source": [
    "import sys\n",
    "import warnings\n",
    "sys.path.append(\"../src/pipeline\")\n",
    "from utils import query_utils as query\n",
    "from utils import gait_features_utils as gproc\n",
    "import synapseclient as sc\n",
    "import matplotlib.pyplot as plt\n",
    "import seaborn as sns\n",
    "import pandas as pd\n",
    "import numpy as np\n",
    "from sklearn.datasets import load_digits\n",
    "from sklearn.feature_selection import SelectKBest, chi2\n",
    "from sklearn.ensemble import RandomForestClassifier, GradientBoostingClassifier\n",
    "from sklearn.model_selection import train_test_split\n",
    "from sklearn.impute import SimpleImputer\n",
    "import sklearn.metrics as metrics\n",
    "import fancyimpute\n",
    "\n",
    "\n",
    "# magic commands\n",
    "%matplotlib inline\n",
    "%load_ext autoreload\n",
    "%autoreload 2\n",
    "\n",
    "# extra commands\n",
    "sns.set_style(\"darkgrid\")\n",
    "sns.set_context(\"paper\")\n",
    "warnings.simplefilter(\"ignore\")"
   ]
  },
  {
   "cell_type": "code",
   "execution_count": 2,
   "metadata": {},
   "outputs": [
    {
     "name": "stdout",
     "output_type": "stream",
     "text": [
      "Welcome, aryton tediarjo!\n",
      "\n"
     ]
    },
    {
     "name": "stderr",
     "output_type": "stream",
     "text": [
      "INFO:synapseclient_default:Welcome, aryton tediarjo!\n",
      "\n"
     ]
    }
   ],
   "source": [
    "WALKING_GROUPED_FEATURES = \"syn21626482\"\n",
    "MATCHED_DEMOGRAPHICS = \"syn21614563\"\n",
    "syn = sc.login()"
   ]
  },
  {
   "cell_type": "code",
   "execution_count": 3,
   "metadata": {},
   "outputs": [],
   "source": [
    "# get data\n",
    "data = query.get_file_entity(syn, WALKING_GROUPED_FEATURES )\n",
    "demographic = query.get_file_entity(syn, MATCHED_DEMOGRAPHICS)\n",
    "\n",
    "\n",
    "data = data[[feat for feat in data.columns if (\"filepath\" not in feat) \n",
    "             and (\"window\" not in feat) \n",
    "             and (\"steps\" not in feat) \n",
    "             and (feat != \"index\")\n",
    "             and (\"AA_\" not in feat)]]\n",
    "\n",
    "\n",
    "# filter datasets\n",
    "data = data[(data[\"test_type\"] == \"walking\") & \n",
    "            (data[\"age\"] > 0) & \n",
    "            (data[\"table_version\"] != \"MPOWER_PASSIVE\") &\n",
    "            (data[\"class\"] != \"MS\")]\n",
    "\n",
    "# merge inner\n",
    "data = pd.merge(demographic[[\"healthCode\"]], data, on = \"healthCode\", how = \"inner\")\n",
    "\n",
    "data = data.set_index(\"healthCode\")\n",
    "\n",
    "# clean sparse feature\n",
    "data = data[data.columns[data.isnull().mean() < 0.2]]\n",
    "\n",
    "# cols of choice\n",
    "metadata_cols = [\"test_type\", \"phoneInfo\", \"age\", \"gender\", \"table_version\", \"nrecords\", \"class\"]\n",
    "feat_cols = [feat for feat in data.columns if (feat not in metadata_cols)]"
   ]
  },
  {
   "cell_type": "markdown",
   "metadata": {},
   "source": [
    "## 1. Impute missing data on training using MICE"
   ]
  },
  {
   "cell_type": "code",
   "execution_count": 5,
   "metadata": {},
   "outputs": [],
   "source": [
    "train = data[feat_cols]\n",
    "target = data[\"class\"].map({\"PD\":1, \"control\":0})"
   ]
  },
  {
   "cell_type": "code",
   "execution_count": 7,
   "metadata": {},
   "outputs": [],
   "source": [
    "# split train test split\n",
    "X_train, X_test, y_train, y_test = train_test_split(train, target, \n",
    "                                                    test_size = 0.25,\n",
    "                                                   random_state = 100)"
   ]
  },
  {
   "cell_type": "code",
   "execution_count": 26,
   "metadata": {},
   "outputs": [],
   "source": [
    "imputer = MICE(initial_strategy = \"median\", \n",
    "             random_state = 100, \n",
    "             max_iter = 20).fit(X_train)"
   ]
  },
  {
   "cell_type": "code",
   "execution_count": 27,
   "metadata": {},
   "outputs": [],
   "source": [
    "X_train_impute = imputer.fit_transform(X_train)\n",
    "X_test_impute = imputer.fit_transform(X_test)"
   ]
  },
  {
   "cell_type": "code",
   "execution_count": 31,
   "metadata": {},
   "outputs": [],
   "source": [
    "# Create raw model with 1000 estimators\n",
    "model = RandomForestClassifier(n_estimators=2000,\n",
    "                              random_state = 100)\n",
    "model.fit(X_train_impute, y_train)\n",
    "y_pred = model.predict(X_test_impute)"
   ]
  },
  {
   "cell_type": "code",
   "execution_count": 32,
   "metadata": {},
   "outputs": [
    {
     "name": "stdout",
     "output_type": "stream",
     "text": [
      "Some Preliminary Prediction Scores using all Features\n",
      "\n",
      "AUC-score: 0.6479540918163672\n",
      "\n",
      "F1-score: 0.6415094339622641\n",
      "\n",
      "Logloss-score: 12.382008696239048\n",
      "\n",
      "\n",
      "Classification Report on Baseline Model Performance\n",
      "\n",
      "              precision    recall  f1-score   support\n",
      "\n",
      "           0       0.71      0.58      0.64       204\n",
      "           1       0.58      0.71      0.64       167\n",
      "\n",
      "    accuracy                           0.64       371\n",
      "   macro avg       0.65      0.65      0.64       371\n",
      "weighted avg       0.65      0.64      0.64       371\n",
      "\n"
     ]
    }
   ],
   "source": [
    "print(\"Some Preliminary Prediction Scores using all Features\\n\")\n",
    "\n",
    "print(\"AUC-score: {}\\n\".format(metrics.roc_auc_score(y_true = y_test, \n",
    "                              y_score = y_pred)))\n",
    "print(\"F1-score: {}\\n\".format(metrics.f1_score(y_true = y_test, \n",
    "                              y_pred = y_pred)))\n",
    "print(\"Logloss-score: {}\\n\".format(metrics.log_loss(y_true = y_test, \n",
    "                              y_pred = y_pred)))\n",
    "\n",
    "\n",
    "print(\"\\nClassification Report on Baseline Model Performance\\n\")\n",
    "print(metrics.classification_report(y_test, y_pred))"
   ]
  },
  {
   "cell_type": "code",
   "execution_count": null,
   "metadata": {},
   "outputs": [],
   "source": []
  },
  {
   "cell_type": "code",
   "execution_count": null,
   "metadata": {},
   "outputs": [],
   "source": []
  }
 ],
 "metadata": {
  "kernelspec": {
   "display_name": "synapse_venv",
   "language": "python",
   "name": "synapse_venv"
  },
  "language_info": {
   "codemirror_mode": {
    "name": "ipython",
    "version": 3
   },
   "file_extension": ".py",
   "mimetype": "text/x-python",
   "name": "python",
   "nbconvert_exporter": "python",
   "pygments_lexer": "ipython3",
   "version": "3.7.4"
  }
 },
 "nbformat": 4,
 "nbformat_minor": 4
}

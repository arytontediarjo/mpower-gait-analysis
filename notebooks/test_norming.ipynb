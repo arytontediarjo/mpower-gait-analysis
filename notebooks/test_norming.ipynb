{
 "cells": [
  {
   "cell_type": "code",
   "execution_count": 23,
   "metadata": {},
   "outputs": [
    {
     "name": "stdout",
     "output_type": "stream",
     "text": [
      "Welcome, aryton tediarjo!\n",
      "\n"
     ]
    }
   ],
   "source": [
    "\"\"\"\n",
    "Author: Sage Bionetworks\n",
    "\n",
    "Script to gather all Demographics Data from all gait data from Synapse Table\n",
    "\"\"\"\n",
    "\n",
    "# import future libraries\n",
    "from __future__ import print_function\n",
    "from __future__ import unicode_literals\n",
    "\n",
    "# import standard libraries\n",
    "import time\n",
    "import sys\n",
    "import os\n",
    "import pandas as pd\n",
    "import numpy as np\n",
    "\n",
    "# import external libraries\n",
    "import synapseclient as sc\n",
    "\n",
    "# import project modules\n",
    "sys.path.append(\"../src/pipeline\")\n",
    "from utils import query_utils as query\n",
    "\n",
    "# global variables\n",
    "DATA_DICT = {\n",
    "    \"DEMOGRAPHICS\": {\n",
    "        \"MPOWER_V1\": \"syn10371840\",\n",
    "        \"MPOWER_V2\": \"syn15673379\",\n",
    "        \"ELEVATE_MS_DEMO\": \"syn10295288\",\n",
    "        \"ELEVATE_MS_PROF\": \"syn10235463\"},\n",
    "    \"OUTPUT_INFO\": {\n",
    "        \"FILENAME\": \"gait_demographics.csv\",\n",
    "        \"PARENT_SYN_ID\": \"syn21537423\",\n",
    "        \"PROJ_REPO\": \"mpower-gait-analysis\",\n",
    "        \"TOKEN_PATH\": \"~/git_token.txt\"}\n",
    "}\n",
    "\n",
    "\n",
    "def generate_gait_demographic(syn):\n",
    "    \"\"\"\n",
    "    Function to generate healthcode demographic informations\n",
    "    from Demographic and Profiles synapse table.\n",
    "    Takes in a dataframe containing healthcode,\n",
    "    and join the table and compiled demographic\n",
    "    data by their healthcodes.\n",
    "\n",
    "    Cleaning process:\n",
    "        1. Annotate controls, PD, MS in a column called class\n",
    "        2. Filter healthCode if gender, inferred diagnosis is NULL\n",
    "        3. If age is recorded as birthYear, age\n",
    "            will be based on current year - birthYear\n",
    "        4. healthCodes that has double PD status entry\n",
    "            will be dropped from the dataframe\n",
    "        5. Age is subsetted between 18-120 years old\n",
    "        6. Aggregation of records for each healthcodes will be based on\n",
    "        number of unique record entries, other metadata features will be\n",
    "        aggregated based on most frequent occurences\n",
    "\n",
    "    Args:\n",
    "        syn                : synapseclient object\n",
    "        data (pd.DataFrame): pandas dataframe\n",
    "\n",
    "    Returns:\n",
    "        RType: pd.DataFrame\n",
    "        Returns a dataframe of unique healthcode and\n",
    "        its corresponding metadata features\n",
    "    \"\"\"\n",
    "\n",
    "    # demographics on mpower V1\n",
    "    demo_data_v1 = syn.tableQuery(\n",
    "        \"SELECT age, healthCode, \\\n",
    "        inferred_diagnosis as PD, gender \\\n",
    "        FROM {} where dataGroups \\\n",
    "        NOT LIKE '%test_user%'\"\n",
    "        .format(DATA_DICT[\"DEMOGRAPHICS\"][\"MPOWER_V1\"]))\\\n",
    "        .asDataFrame()\n",
    "    demo_data_v1 = demo_data_v1\\\n",
    "        .dropna(subset=[\"PD\"], thresh=1)\n",
    "    demo_data_v1[\"class\"] = demo_data_v1[\"PD\"]\\\n",
    "        .map({True: \"PD\", False: \"control\"})\n",
    "    demo_data_v1[\"table_version\"] = \"MPOWER_V1\"\n",
    "\n",
    "    # demographics on ElevateMS\n",
    "    demo_data_ems = syn.tableQuery(\n",
    "        \"SELECT healthCode, dataGroups as MS,\\\n",
    "        'gender.json.answer' as gender from {}\\\n",
    "        where dataGroups NOT LIKE '%test_user%'\"\n",
    "        .format(DATA_DICT[\"DEMOGRAPHICS\"][\"ELEVATE_MS_DEMO\"]))\\\n",
    "        .asDataFrame()\n",
    "    profile_data_ems = syn.tableQuery(\n",
    "        \"SELECT healthCode as healthCode, \\\n",
    "        'demographics.age' as age from {}\"\n",
    "        .format(DATA_DICT[\"DEMOGRAPHICS\"][\"ELEVATE_MS_PROF\"]))\\\n",
    "        .asDataFrame()\n",
    "    demo_data_ems = pd.merge(\n",
    "        demo_data_ems, profile_data_ems,\n",
    "        how=\"inner\", on=\"healthCode\")\n",
    "    demo_data_ems[\"class\"] = demo_data_ems[\"MS\"].map(\n",
    "        {\"ms_patient\": \"MS\", \"control\": \"control\"})\n",
    "    demo_data_ems[\"table_version\"] = \"ELEVATE_MS\"\n",
    "    \n",
    "    \n",
    "    demo_data = demo_data_ems\n",
    "\n",
    "    # demographics on mpower V2\n",
    "    demo_data_v2 = syn.tableQuery(\n",
    "        \"SELECT birthYear, createdOn, healthCode, \\\n",
    "        diagnosis as PD, sex as gender FROM {} \\\n",
    "        where dataGroups NOT LIKE '%test_user%'\"\n",
    "        .format(DATA_DICT[\"DEMOGRAPHICS\"][\"MPOWER_V2\"])).asDataFrame()\n",
    "    demo_data_v2 = demo_data_v2[demo_data_v2[\"PD\"] != \"no_answer\"]\n",
    "    demo_data_v2[\"class\"] = demo_data_v2[\"PD\"]\\\n",
    "        .map({\"parkinsons\": \"PD\", \"control\": \"control\"})\n",
    "    demo_data_v2[\"birthYear\"] = demo_data_v2[demo_data_v2[\"birthYear\"]\n",
    "                                             .apply(lambda x: True if x >= 0\n",
    "                                                    else False)]\n",
    "    demo_data_v2[\"age\"] =\\\n",
    "        pd.to_datetime(demo_data_v2[\"createdOn\"],\n",
    "                       unit=\"ms\").dt.year - demo_data_v2[\"birthYear\"]\n",
    "    demo_data_v2[\"table_version\"] = \"MPOWER_V2\"\n",
    "\n",
    "    # concatenate all demographic data\n",
    "    demo_data = pd.concat(\n",
    "        [demo_data_v1, demo_data_v2, demo_data_ems], sort=False)\\\n",
    "        .reset_index(drop=True)\n",
    "\n",
    "    # filter gender\n",
    "    demo_data[\"gender\"] = demo_data[\"gender\"].str.lower()\n",
    "    demo_data = demo_data[(demo_data[\"gender\"] == \"female\")\n",
    "                          | (demo_data[\"gender\"] == \"male\")]\n",
    "\n",
    "    # filter age\n",
    "    demo_data[\"age\"] = demo_data[\"age\"].apply(lambda x: float(x))\n",
    "    demo_data = demo_data[(demo_data[\"age\"] <= 120) & (demo_data[\"age\"] >= 18)]\n",
    "    demo_data = demo_data[~demo_data[\"age\"].isin([np.inf, -np.inf])]\n",
    "    demo_data = demo_data.sort_values(by=\"age\", ascending=False)\n",
    "\n",
    "    # check if multiple input of any class\n",
    "    demo_data = pd.merge(demo_data,\n",
    "                         (demo_data.groupby(\"healthCode\")\n",
    "                          .nunique()[\"class\"] >= 2)\n",
    "                         .reset_index()\n",
    "                         .rename({\"class\": \"has_double_class_entry\"}, axis=1),\n",
    "                         on=\"healthCode\",\n",
    "                         how=\"left\")\n",
    "    demo_data = demo_data.drop(\n",
    "        [\"PD\", \"MS\", \"birthYear\",\n",
    "         \"createdOn\", \"has_double_class_entry\"], axis=1)\n",
    "    demo_data = demo_data.drop_duplicates(\n",
    "        'healthCode', keep=\"first\").reset_index(drop=True)\n",
    "    return demo_data\n",
    "\n",
    "\n",
    "\n",
    "\"\"\"\n",
    "Main Function\n",
    "Entry point for the script\n",
    "Note: Passive gait data will be separated from active gait data\n",
    "      as we dont want to combine both in analysis\n",
    "\"\"\"\n",
    "\n",
    "# retrieve synapse credential through config\n",
    "path = os.path.join(os.getenv(\"HOME\"),\n",
    "                    \".synapseConfig\")\n",
    "syn = sc.Synapse(configPath=path)\n",
    "syn.login(os.getenv(\"syn_username\"),\n",
    "          os.getenv(\"syn_password\"),\n",
    "          rememberMe=True)\n",
    "\n",
    "# process metadata from synapse table\n",
    "metadata = generate_gait_demographic(syn)\n",
    "\n",
    "    "
   ]
  },
  {
   "cell_type": "code",
   "execution_count": 29,
   "metadata": {},
   "outputs": [
    {
     "data": {
      "text/plain": [
       "MS         272\n",
       "control     45\n",
       "Name: class, dtype: int64"
      ]
     },
     "execution_count": 29,
     "metadata": {},
     "output_type": "execute_result"
    }
   ],
   "source": [
    "metadata[metadata[\"table_version\"] == \"ELEVATE_MS\"][\"class\"].value_counts()"
   ]
  },
  {
   "cell_type": "code",
   "execution_count": 36,
   "metadata": {},
   "outputs": [],
   "source": [
    "data = syn.tableQuery(\"SELECT * FROM syn10278766\").asDataFrame()"
   ]
  },
  {
   "cell_type": "code",
   "execution_count": 37,
   "metadata": {},
   "outputs": [],
   "source": [
    "data = (data.groupby(\"healthCode\").agg({\"recordId\":pd.Series.nunique})).reset_index()"
   ]
  },
  {
   "cell_type": "code",
   "execution_count": 39,
   "metadata": {},
   "outputs": [],
   "source": [
    "data = pd.merge(metadata, data, how = \"right\", on = \"healthCode\")"
   ]
  },
  {
   "cell_type": "code",
   "execution_count": 41,
   "metadata": {},
   "outputs": [],
   "source": [
    "data = data[(data[\"age\"] <= 120) & (data[\"age\"] >= 18)]"
   ]
  },
  {
   "cell_type": "code",
   "execution_count": 43,
   "metadata": {},
   "outputs": [
    {
     "data": {
      "text/plain": [
       "MS         212\n",
       "control     28\n",
       "Name: class, dtype: int64"
      ]
     },
     "execution_count": 43,
     "metadata": {},
     "output_type": "execute_result"
    }
   ],
   "source": [
    "data[\"class\"].value_counts()"
   ]
  },
  {
   "cell_type": "code",
   "execution_count": null,
   "metadata": {},
   "outputs": [],
   "source": []
  }
 ],
 "metadata": {
  "kernelspec": {
   "display_name": "project_environment",
   "language": "python",
   "name": "project_environment"
  },
  "language_info": {
   "codemirror_mode": {
    "name": "ipython",
    "version": 3
   },
   "file_extension": ".py",
   "mimetype": "text/x-python",
   "name": "python",
   "nbconvert_exporter": "python",
   "pygments_lexer": "ipython3",
   "version": "3.7.6"
  }
 },
 "nbformat": 4,
 "nbformat_minor": 4
}
